{
 "cells": [
  {
   "cell_type": "markdown",
   "id": "9e57a73c",
   "metadata": {},
   "source": [
    "# Credit Card Fraud Detection Sub-Group 1"
   ]
  },
  {
   "cell_type": "markdown",
   "id": "75f3fa4c",
   "metadata": {},
   "source": [
    "# Importing Libraries"
   ]
  },
  {
   "cell_type": "code",
   "execution_count": 1,
   "id": "26638d0e",
   "metadata": {},
   "outputs": [
    {
     "name": "stdout",
     "output_type": "stream",
     "text": [
      "2.14.0\n"
     ]
    }
   ],
   "source": [
    "import tensorflow as tf\n",
    "from tensorflow import keras\n",
    "from tensorflow.keras import Sequential\n",
    "from tensorflow.keras.layers import Flatten, Dense, Dropout, BatchNormalization\n",
    "from tensorflow.keras.layers import Conv1D, MaxPool1D\n",
    "from tensorflow.keras.optimizers import Adam\n",
    "print(tf.__version__)"
   ]
  },
  {
   "cell_type": "code",
   "execution_count": 3,
   "id": "d7d709d6",
   "metadata": {},
   "outputs": [],
   "source": [
    "import pandas as pd\n",
    "import numpy as np\n",
    "import matplotlib.pyplot as plt\n",
    "from sklearn.model_selection import train_test_split\n",
    "from sklearn.preprocessing import StandardScaler"
   ]
  },
  {
   "cell_type": "markdown",
   "id": "f1d31af7",
   "metadata": {},
   "source": [
    "# Exploratory Data Analysis "
   ]
  },
  {
   "cell_type": "code",
   "execution_count": 4,
   "id": "352a40f8",
   "metadata": {
    "scrolled": true
   },
   "outputs": [
    {
     "data": {
      "text/html": [
       "<div>\n",
       "<style scoped>\n",
       "    .dataframe tbody tr th:only-of-type {\n",
       "        vertical-align: middle;\n",
       "    }\n",
       "\n",
       "    .dataframe tbody tr th {\n",
       "        vertical-align: top;\n",
       "    }\n",
       "\n",
       "    .dataframe thead th {\n",
       "        text-align: right;\n",
       "    }\n",
       "</style>\n",
       "<table border=\"1\" class=\"dataframe\">\n",
       "  <thead>\n",
       "    <tr style=\"text-align: right;\">\n",
       "      <th></th>\n",
       "      <th>Time</th>\n",
       "      <th>V1</th>\n",
       "      <th>V2</th>\n",
       "      <th>V3</th>\n",
       "      <th>V4</th>\n",
       "      <th>V5</th>\n",
       "      <th>V6</th>\n",
       "      <th>V7</th>\n",
       "      <th>V8</th>\n",
       "      <th>V9</th>\n",
       "      <th>...</th>\n",
       "      <th>V21</th>\n",
       "      <th>V22</th>\n",
       "      <th>V23</th>\n",
       "      <th>V24</th>\n",
       "      <th>V25</th>\n",
       "      <th>V26</th>\n",
       "      <th>V27</th>\n",
       "      <th>V28</th>\n",
       "      <th>Amount</th>\n",
       "      <th>Class</th>\n",
       "    </tr>\n",
       "  </thead>\n",
       "  <tbody>\n",
       "    <tr>\n",
       "      <th>0</th>\n",
       "      <td>0.0</td>\n",
       "      <td>-1.359807</td>\n",
       "      <td>-0.072781</td>\n",
       "      <td>2.536347</td>\n",
       "      <td>1.378155</td>\n",
       "      <td>-0.338321</td>\n",
       "      <td>0.462388</td>\n",
       "      <td>0.239599</td>\n",
       "      <td>0.098698</td>\n",
       "      <td>0.363787</td>\n",
       "      <td>...</td>\n",
       "      <td>-0.018307</td>\n",
       "      <td>0.277838</td>\n",
       "      <td>-0.110474</td>\n",
       "      <td>0.066928</td>\n",
       "      <td>0.128539</td>\n",
       "      <td>-0.189115</td>\n",
       "      <td>0.133558</td>\n",
       "      <td>-0.021053</td>\n",
       "      <td>149.62</td>\n",
       "      <td>0</td>\n",
       "    </tr>\n",
       "    <tr>\n",
       "      <th>1</th>\n",
       "      <td>0.0</td>\n",
       "      <td>1.191857</td>\n",
       "      <td>0.266151</td>\n",
       "      <td>0.166480</td>\n",
       "      <td>0.448154</td>\n",
       "      <td>0.060018</td>\n",
       "      <td>-0.082361</td>\n",
       "      <td>-0.078803</td>\n",
       "      <td>0.085102</td>\n",
       "      <td>-0.255425</td>\n",
       "      <td>...</td>\n",
       "      <td>-0.225775</td>\n",
       "      <td>-0.638672</td>\n",
       "      <td>0.101288</td>\n",
       "      <td>-0.339846</td>\n",
       "      <td>0.167170</td>\n",
       "      <td>0.125895</td>\n",
       "      <td>-0.008983</td>\n",
       "      <td>0.014724</td>\n",
       "      <td>2.69</td>\n",
       "      <td>0</td>\n",
       "    </tr>\n",
       "    <tr>\n",
       "      <th>2</th>\n",
       "      <td>1.0</td>\n",
       "      <td>-1.358354</td>\n",
       "      <td>-1.340163</td>\n",
       "      <td>1.773209</td>\n",
       "      <td>0.379780</td>\n",
       "      <td>-0.503198</td>\n",
       "      <td>1.800499</td>\n",
       "      <td>0.791461</td>\n",
       "      <td>0.247676</td>\n",
       "      <td>-1.514654</td>\n",
       "      <td>...</td>\n",
       "      <td>0.247998</td>\n",
       "      <td>0.771679</td>\n",
       "      <td>0.909412</td>\n",
       "      <td>-0.689281</td>\n",
       "      <td>-0.327642</td>\n",
       "      <td>-0.139097</td>\n",
       "      <td>-0.055353</td>\n",
       "      <td>-0.059752</td>\n",
       "      <td>378.66</td>\n",
       "      <td>0</td>\n",
       "    </tr>\n",
       "    <tr>\n",
       "      <th>3</th>\n",
       "      <td>1.0</td>\n",
       "      <td>-0.966272</td>\n",
       "      <td>-0.185226</td>\n",
       "      <td>1.792993</td>\n",
       "      <td>-0.863291</td>\n",
       "      <td>-0.010309</td>\n",
       "      <td>1.247203</td>\n",
       "      <td>0.237609</td>\n",
       "      <td>0.377436</td>\n",
       "      <td>-1.387024</td>\n",
       "      <td>...</td>\n",
       "      <td>-0.108300</td>\n",
       "      <td>0.005274</td>\n",
       "      <td>-0.190321</td>\n",
       "      <td>-1.175575</td>\n",
       "      <td>0.647376</td>\n",
       "      <td>-0.221929</td>\n",
       "      <td>0.062723</td>\n",
       "      <td>0.061458</td>\n",
       "      <td>123.50</td>\n",
       "      <td>0</td>\n",
       "    </tr>\n",
       "    <tr>\n",
       "      <th>4</th>\n",
       "      <td>2.0</td>\n",
       "      <td>-1.158233</td>\n",
       "      <td>0.877737</td>\n",
       "      <td>1.548718</td>\n",
       "      <td>0.403034</td>\n",
       "      <td>-0.407193</td>\n",
       "      <td>0.095921</td>\n",
       "      <td>0.592941</td>\n",
       "      <td>-0.270533</td>\n",
       "      <td>0.817739</td>\n",
       "      <td>...</td>\n",
       "      <td>-0.009431</td>\n",
       "      <td>0.798278</td>\n",
       "      <td>-0.137458</td>\n",
       "      <td>0.141267</td>\n",
       "      <td>-0.206010</td>\n",
       "      <td>0.502292</td>\n",
       "      <td>0.219422</td>\n",
       "      <td>0.215153</td>\n",
       "      <td>69.99</td>\n",
       "      <td>0</td>\n",
       "    </tr>\n",
       "  </tbody>\n",
       "</table>\n",
       "<p>5 rows × 31 columns</p>\n",
       "</div>"
      ],
      "text/plain": [
       "   Time        V1        V2        V3        V4        V5        V6        V7  \\\n",
       "0   0.0 -1.359807 -0.072781  2.536347  1.378155 -0.338321  0.462388  0.239599   \n",
       "1   0.0  1.191857  0.266151  0.166480  0.448154  0.060018 -0.082361 -0.078803   \n",
       "2   1.0 -1.358354 -1.340163  1.773209  0.379780 -0.503198  1.800499  0.791461   \n",
       "3   1.0 -0.966272 -0.185226  1.792993 -0.863291 -0.010309  1.247203  0.237609   \n",
       "4   2.0 -1.158233  0.877737  1.548718  0.403034 -0.407193  0.095921  0.592941   \n",
       "\n",
       "         V8        V9  ...       V21       V22       V23       V24       V25  \\\n",
       "0  0.098698  0.363787  ... -0.018307  0.277838 -0.110474  0.066928  0.128539   \n",
       "1  0.085102 -0.255425  ... -0.225775 -0.638672  0.101288 -0.339846  0.167170   \n",
       "2  0.247676 -1.514654  ...  0.247998  0.771679  0.909412 -0.689281 -0.327642   \n",
       "3  0.377436 -1.387024  ... -0.108300  0.005274 -0.190321 -1.175575  0.647376   \n",
       "4 -0.270533  0.817739  ... -0.009431  0.798278 -0.137458  0.141267 -0.206010   \n",
       "\n",
       "        V26       V27       V28  Amount  Class  \n",
       "0 -0.189115  0.133558 -0.021053  149.62      0  \n",
       "1  0.125895 -0.008983  0.014724    2.69      0  \n",
       "2 -0.139097 -0.055353 -0.059752  378.66      0  \n",
       "3 -0.221929  0.062723  0.061458  123.50      0  \n",
       "4  0.502292  0.219422  0.215153   69.99      0  \n",
       "\n",
       "[5 rows x 31 columns]"
      ]
     },
     "execution_count": 4,
     "metadata": {},
     "output_type": "execute_result"
    }
   ],
   "source": [
    "data = pd.read_csv('FinalCreditCard.csv')\n",
    "data.head()"
   ]
  },
  {
   "cell_type": "code",
   "execution_count": 5,
   "id": "e847c83c",
   "metadata": {},
   "outputs": [
    {
     "data": {
      "text/plain": [
       "(5000, 31)"
      ]
     },
     "execution_count": 5,
     "metadata": {},
     "output_type": "execute_result"
    }
   ],
   "source": [
    "data.shape"
   ]
  },
  {
   "cell_type": "code",
   "execution_count": 6,
   "id": "e9cfadc6",
   "metadata": {},
   "outputs": [
    {
     "data": {
      "text/plain": [
       "Time      0\n",
       "V1        0\n",
       "V2        0\n",
       "V3        0\n",
       "V4        0\n",
       "V5        0\n",
       "V6        0\n",
       "V7        0\n",
       "V8        0\n",
       "V9        0\n",
       "V10       0\n",
       "V11       0\n",
       "V12       0\n",
       "V13       0\n",
       "V14       0\n",
       "V15       0\n",
       "V16       0\n",
       "V17       0\n",
       "V18       0\n",
       "V19       0\n",
       "V20       0\n",
       "V21       0\n",
       "V22       0\n",
       "V23       0\n",
       "V24       0\n",
       "V25       0\n",
       "V26       0\n",
       "V27       0\n",
       "V28       0\n",
       "Amount    0\n",
       "Class     0\n",
       "dtype: int64"
      ]
     },
     "execution_count": 6,
     "metadata": {},
     "output_type": "execute_result"
    }
   ],
   "source": [
    "#checking for missing values\n",
    "data.isnull().sum()"
   ]
  },
  {
   "cell_type": "code",
   "execution_count": 7,
   "id": "fe5b15f2",
   "metadata": {},
   "outputs": [
    {
     "name": "stdout",
     "output_type": "stream",
     "text": [
      "<class 'pandas.core.frame.DataFrame'>\n",
      "RangeIndex: 5000 entries, 0 to 4999\n",
      "Data columns (total 31 columns):\n",
      " #   Column  Non-Null Count  Dtype  \n",
      "---  ------  --------------  -----  \n",
      " 0   Time    5000 non-null   float64\n",
      " 1   V1      5000 non-null   float64\n",
      " 2   V2      5000 non-null   float64\n",
      " 3   V3      5000 non-null   float64\n",
      " 4   V4      5000 non-null   float64\n",
      " 5   V5      5000 non-null   float64\n",
      " 6   V6      5000 non-null   float64\n",
      " 7   V7      5000 non-null   float64\n",
      " 8   V8      5000 non-null   float64\n",
      " 9   V9      5000 non-null   float64\n",
      " 10  V10     5000 non-null   float64\n",
      " 11  V11     5000 non-null   float64\n",
      " 12  V12     5000 non-null   float64\n",
      " 13  V13     5000 non-null   float64\n",
      " 14  V14     5000 non-null   float64\n",
      " 15  V15     5000 non-null   float64\n",
      " 16  V16     5000 non-null   float64\n",
      " 17  V17     5000 non-null   float64\n",
      " 18  V18     5000 non-null   float64\n",
      " 19  V19     5000 non-null   float64\n",
      " 20  V20     5000 non-null   float64\n",
      " 21  V21     5000 non-null   float64\n",
      " 22  V22     5000 non-null   float64\n",
      " 23  V23     5000 non-null   float64\n",
      " 24  V24     5000 non-null   float64\n",
      " 25  V25     5000 non-null   float64\n",
      " 26  V26     5000 non-null   float64\n",
      " 27  V27     5000 non-null   float64\n",
      " 28  V28     5000 non-null   float64\n",
      " 29  Amount  5000 non-null   float64\n",
      " 30  Class   5000 non-null   int64  \n",
      "dtypes: float64(30), int64(1)\n",
      "memory usage: 1.2 MB\n"
     ]
    }
   ],
   "source": [
    "#Dataset Summary\n",
    "data.info()"
   ]
  },
  {
   "cell_type": "code",
   "execution_count": 8,
   "id": "f7e174d2",
   "metadata": {},
   "outputs": [
    {
     "data": {
      "text/plain": [
       "0    4508\n",
       "1     492\n",
       "Name: Class, dtype: int64"
      ]
     },
     "execution_count": 8,
     "metadata": {},
     "output_type": "execute_result"
    }
   ],
   "source": [
    "data['Class'].value_counts()"
   ]
  },
  {
   "cell_type": "code",
   "execution_count": 9,
   "id": "fefed8cd",
   "metadata": {},
   "outputs": [
    {
     "data": {
      "text/plain": [
       "((4508, 31), (492, 31))"
      ]
     },
     "execution_count": 9,
     "metadata": {},
     "output_type": "execute_result"
    }
   ],
   "source": [
    "non_fraud = data[data['Class']==0]\n",
    "fraud = data[data['Class']==1]\n",
    "non_fraud.shape, fraud.shape"
   ]
  },
  {
   "cell_type": "markdown",
   "id": "9bd2abf3",
   "metadata": {},
   "source": [
    "# Data Preprocessing"
   ]
  },
  {
   "cell_type": "code",
   "execution_count": 10,
   "id": "0c31faa1",
   "metadata": {},
   "outputs": [
    {
     "data": {
      "text/plain": [
       "(492, 31)"
      ]
     },
     "execution_count": 10,
     "metadata": {},
     "output_type": "execute_result"
    }
   ],
   "source": [
    "#Class Balancing\n",
    "non_fraud = non_fraud.sample(fraud.shape[0])\n",
    "non_fraud.shape"
   ]
  },
  {
   "cell_type": "code",
   "execution_count": 11,
   "id": "fd83e993",
   "metadata": {},
   "outputs": [
    {
     "data": {
      "text/html": [
       "<div>\n",
       "<style scoped>\n",
       "    .dataframe tbody tr th:only-of-type {\n",
       "        vertical-align: middle;\n",
       "    }\n",
       "\n",
       "    .dataframe tbody tr th {\n",
       "        vertical-align: top;\n",
       "    }\n",
       "\n",
       "    .dataframe thead th {\n",
       "        text-align: right;\n",
       "    }\n",
       "</style>\n",
       "<table border=\"1\" class=\"dataframe\">\n",
       "  <thead>\n",
       "    <tr style=\"text-align: right;\">\n",
       "      <th></th>\n",
       "      <th>Time</th>\n",
       "      <th>V1</th>\n",
       "      <th>V2</th>\n",
       "      <th>V3</th>\n",
       "      <th>V4</th>\n",
       "      <th>V5</th>\n",
       "      <th>V6</th>\n",
       "      <th>V7</th>\n",
       "      <th>V8</th>\n",
       "      <th>V9</th>\n",
       "      <th>...</th>\n",
       "      <th>V21</th>\n",
       "      <th>V22</th>\n",
       "      <th>V23</th>\n",
       "      <th>V24</th>\n",
       "      <th>V25</th>\n",
       "      <th>V26</th>\n",
       "      <th>V27</th>\n",
       "      <th>V28</th>\n",
       "      <th>Amount</th>\n",
       "      <th>Class</th>\n",
       "    </tr>\n",
       "  </thead>\n",
       "  <tbody>\n",
       "    <tr>\n",
       "      <th>0</th>\n",
       "      <td>406.0</td>\n",
       "      <td>-2.312227</td>\n",
       "      <td>1.951992</td>\n",
       "      <td>-1.609851</td>\n",
       "      <td>3.997906</td>\n",
       "      <td>-0.522188</td>\n",
       "      <td>-1.426545</td>\n",
       "      <td>-2.537387</td>\n",
       "      <td>1.391657</td>\n",
       "      <td>-2.770089</td>\n",
       "      <td>...</td>\n",
       "      <td>0.517232</td>\n",
       "      <td>-0.035049</td>\n",
       "      <td>-0.465211</td>\n",
       "      <td>0.320198</td>\n",
       "      <td>0.044519</td>\n",
       "      <td>0.177840</td>\n",
       "      <td>0.261145</td>\n",
       "      <td>-0.143276</td>\n",
       "      <td>0.00</td>\n",
       "      <td>1</td>\n",
       "    </tr>\n",
       "    <tr>\n",
       "      <th>1</th>\n",
       "      <td>472.0</td>\n",
       "      <td>-3.043541</td>\n",
       "      <td>-3.157307</td>\n",
       "      <td>1.088463</td>\n",
       "      <td>2.288644</td>\n",
       "      <td>1.359805</td>\n",
       "      <td>-1.064823</td>\n",
       "      <td>0.325574</td>\n",
       "      <td>-0.067794</td>\n",
       "      <td>-0.270953</td>\n",
       "      <td>...</td>\n",
       "      <td>0.661696</td>\n",
       "      <td>0.435477</td>\n",
       "      <td>1.375966</td>\n",
       "      <td>-0.293803</td>\n",
       "      <td>0.279798</td>\n",
       "      <td>-0.145362</td>\n",
       "      <td>-0.252773</td>\n",
       "      <td>0.035764</td>\n",
       "      <td>529.00</td>\n",
       "      <td>1</td>\n",
       "    </tr>\n",
       "    <tr>\n",
       "      <th>2</th>\n",
       "      <td>4462.0</td>\n",
       "      <td>-2.303350</td>\n",
       "      <td>1.759247</td>\n",
       "      <td>-0.359745</td>\n",
       "      <td>2.330243</td>\n",
       "      <td>-0.821628</td>\n",
       "      <td>-0.075788</td>\n",
       "      <td>0.562320</td>\n",
       "      <td>-0.399147</td>\n",
       "      <td>-0.238253</td>\n",
       "      <td>...</td>\n",
       "      <td>-0.294166</td>\n",
       "      <td>-0.932391</td>\n",
       "      <td>0.172726</td>\n",
       "      <td>-0.087330</td>\n",
       "      <td>-0.156114</td>\n",
       "      <td>-0.542628</td>\n",
       "      <td>0.039566</td>\n",
       "      <td>-0.153029</td>\n",
       "      <td>239.93</td>\n",
       "      <td>1</td>\n",
       "    </tr>\n",
       "    <tr>\n",
       "      <th>3</th>\n",
       "      <td>6986.0</td>\n",
       "      <td>-4.397974</td>\n",
       "      <td>1.358367</td>\n",
       "      <td>-2.592844</td>\n",
       "      <td>2.679787</td>\n",
       "      <td>-1.128131</td>\n",
       "      <td>-1.706536</td>\n",
       "      <td>-3.496197</td>\n",
       "      <td>-0.248778</td>\n",
       "      <td>-0.247768</td>\n",
       "      <td>...</td>\n",
       "      <td>0.573574</td>\n",
       "      <td>0.176968</td>\n",
       "      <td>-0.436207</td>\n",
       "      <td>-0.053502</td>\n",
       "      <td>0.252405</td>\n",
       "      <td>-0.657488</td>\n",
       "      <td>-0.827136</td>\n",
       "      <td>0.849573</td>\n",
       "      <td>59.00</td>\n",
       "      <td>1</td>\n",
       "    </tr>\n",
       "    <tr>\n",
       "      <th>4</th>\n",
       "      <td>7519.0</td>\n",
       "      <td>1.234235</td>\n",
       "      <td>3.019740</td>\n",
       "      <td>-4.304597</td>\n",
       "      <td>4.732795</td>\n",
       "      <td>3.624201</td>\n",
       "      <td>-1.357746</td>\n",
       "      <td>1.713445</td>\n",
       "      <td>-0.496358</td>\n",
       "      <td>-1.282858</td>\n",
       "      <td>...</td>\n",
       "      <td>-0.379068</td>\n",
       "      <td>-0.704181</td>\n",
       "      <td>-0.656805</td>\n",
       "      <td>-1.632653</td>\n",
       "      <td>1.488901</td>\n",
       "      <td>0.566797</td>\n",
       "      <td>-0.010016</td>\n",
       "      <td>0.146793</td>\n",
       "      <td>1.00</td>\n",
       "      <td>1</td>\n",
       "    </tr>\n",
       "  </tbody>\n",
       "</table>\n",
       "<p>5 rows × 31 columns</p>\n",
       "</div>"
      ],
      "text/plain": [
       "     Time        V1        V2        V3        V4        V5        V6  \\\n",
       "0   406.0 -2.312227  1.951992 -1.609851  3.997906 -0.522188 -1.426545   \n",
       "1   472.0 -3.043541 -3.157307  1.088463  2.288644  1.359805 -1.064823   \n",
       "2  4462.0 -2.303350  1.759247 -0.359745  2.330243 -0.821628 -0.075788   \n",
       "3  6986.0 -4.397974  1.358367 -2.592844  2.679787 -1.128131 -1.706536   \n",
       "4  7519.0  1.234235  3.019740 -4.304597  4.732795  3.624201 -1.357746   \n",
       "\n",
       "         V7        V8        V9  ...       V21       V22       V23       V24  \\\n",
       "0 -2.537387  1.391657 -2.770089  ...  0.517232 -0.035049 -0.465211  0.320198   \n",
       "1  0.325574 -0.067794 -0.270953  ...  0.661696  0.435477  1.375966 -0.293803   \n",
       "2  0.562320 -0.399147 -0.238253  ... -0.294166 -0.932391  0.172726 -0.087330   \n",
       "3 -3.496197 -0.248778 -0.247768  ...  0.573574  0.176968 -0.436207 -0.053502   \n",
       "4  1.713445 -0.496358 -1.282858  ... -0.379068 -0.704181 -0.656805 -1.632653   \n",
       "\n",
       "        V25       V26       V27       V28  Amount  Class  \n",
       "0  0.044519  0.177840  0.261145 -0.143276    0.00      1  \n",
       "1  0.279798 -0.145362 -0.252773  0.035764  529.00      1  \n",
       "2 -0.156114 -0.542628  0.039566 -0.153029  239.93      1  \n",
       "3  0.252405 -0.657488 -0.827136  0.849573   59.00      1  \n",
       "4  1.488901  0.566797 -0.010016  0.146793    1.00      1  \n",
       "\n",
       "[5 rows x 31 columns]"
      ]
     },
     "execution_count": 11,
     "metadata": {},
     "output_type": "execute_result"
    }
   ],
   "source": [
    "#combine\n",
    "data = pd.concat([fraud, non_fraud], ignore_index=True)\n",
    "data.head()"
   ]
  },
  {
   "cell_type": "code",
   "execution_count": 12,
   "id": "27107bf1",
   "metadata": {},
   "outputs": [
    {
     "data": {
      "text/plain": [
       "1    492\n",
       "0    492\n",
       "Name: Class, dtype: int64"
      ]
     },
     "execution_count": 12,
     "metadata": {},
     "output_type": "execute_result"
    }
   ],
   "source": [
    "#Class Distribution (after balancing)\n",
    "data['Class'].value_counts()"
   ]
  },
  {
   "cell_type": "markdown",
   "id": "5743ddc3",
   "metadata": {},
   "source": [
    "### Feature and Target split "
   ]
  },
  {
   "cell_type": "code",
   "execution_count": 13,
   "id": "89b9f3af",
   "metadata": {},
   "outputs": [],
   "source": [
    "X = data.drop('Class', axis = 1)\n",
    "y = data['Class']"
   ]
  },
  {
   "cell_type": "markdown",
   "id": "58cc9834",
   "metadata": {},
   "source": [
    "### Train-Test Split : 20% data for testing and 80% data for training the model. "
   ]
  },
  {
   "cell_type": "code",
   "execution_count": 14,
   "id": "df8f919c",
   "metadata": {},
   "outputs": [],
   "source": [
    "X_train, X_test, y_train, y_test = train_test_split(X, y, test_size = 0.2, random_state = 0, stratify = y)"
   ]
  },
  {
   "cell_type": "code",
   "execution_count": 15,
   "id": "3dd2a26c",
   "metadata": {},
   "outputs": [
    {
     "data": {
      "text/plain": [
       "((787, 30), (197, 30))"
      ]
     },
     "execution_count": 15,
     "metadata": {},
     "output_type": "execute_result"
    }
   ],
   "source": [
    "X_train.shape, X_test.shape"
   ]
  },
  {
   "cell_type": "markdown",
   "id": "a13621a3",
   "metadata": {},
   "source": [
    "### Feature Scaling"
   ]
  },
  {
   "cell_type": "code",
   "execution_count": 16,
   "id": "2592976d",
   "metadata": {},
   "outputs": [],
   "source": [
    "scaler = StandardScaler()\n",
    "X_train = scaler.fit_transform(X_train)\n",
    "X_test = scaler.transform(X_test)"
   ]
  },
  {
   "cell_type": "code",
   "execution_count": 17,
   "id": "6ee1fb1c",
   "metadata": {},
   "outputs": [
    {
     "data": {
      "text/plain": [
       "(787, 30)"
      ]
     },
     "execution_count": 17,
     "metadata": {},
     "output_type": "execute_result"
    }
   ],
   "source": [
    "#convert to numpy\n",
    "y_train = y_train.to_numpy()\n",
    "y_test = y_test.to_numpy()\n",
    "\n",
    "X_train.shape"
   ]
  },
  {
   "cell_type": "code",
   "execution_count": 18,
   "id": "1ca29e78",
   "metadata": {},
   "outputs": [],
   "source": [
    "#reshaping features\n",
    "X_train = X_train.reshape(X_train.shape[0], X_train.shape[1], 1)\n",
    "X_test = X_test.reshape(X_test.shape[0], X_test.shape[1], 1)"
   ]
  },
  {
   "cell_type": "code",
   "execution_count": 19,
   "id": "ba8ec9d1",
   "metadata": {},
   "outputs": [
    {
     "data": {
      "text/plain": [
       "((787, 30, 1), (197, 30, 1))"
      ]
     },
     "execution_count": 19,
     "metadata": {},
     "output_type": "execute_result"
    }
   ],
   "source": [
    "#final shape\n",
    "X_train.shape, X_test.shape"
   ]
  },
  {
   "cell_type": "markdown",
   "id": "db4f1b76",
   "metadata": {},
   "source": [
    "### Build CNN"
   ]
  },
  {
   "cell_type": "code",
   "execution_count": 28,
   "id": "4553fff3",
   "metadata": {},
   "outputs": [],
   "source": [
    "epochs = 30\n",
    "model = Sequential()\n",
    "model.add(Conv1D(32, 2, activation='relu', input_shape = X_train[0].shape))\n",
    "model.add(BatchNormalization())\n",
    "model.add(Dropout(0.2))\n",
    "\n",
    "model.add(Conv1D(64, 2, activation='relu'))\n",
    "model.add(BatchNormalization())\n",
    "model.add(Dropout(0.5))\n",
    "\n",
    "model.add(Flatten())\n",
    "model.add(Dense(64, activation='relu'))\n",
    "model.add(Dropout(0.5))\n",
    "\n",
    "model.add(Dense(1, activation='sigmoid'))"
   ]
  },
  {
   "cell_type": "code",
   "execution_count": 29,
   "id": "f111fd29",
   "metadata": {},
   "outputs": [
    {
     "name": "stdout",
     "output_type": "stream",
     "text": [
      "Model: \"sequential_2\"\n",
      "_________________________________________________________________\n",
      " Layer (type)                Output Shape              Param #   \n",
      "=================================================================\n",
      " conv1d_4 (Conv1D)           (None, 29, 32)            96        \n",
      "                                                                 \n",
      " batch_normalization_4 (Bat  (None, 29, 32)            128       \n",
      " chNormalization)                                                \n",
      "                                                                 \n",
      " dropout_6 (Dropout)         (None, 29, 32)            0         \n",
      "                                                                 \n",
      " conv1d_5 (Conv1D)           (None, 28, 64)            4160      \n",
      "                                                                 \n",
      " batch_normalization_5 (Bat  (None, 28, 64)            256       \n",
      " chNormalization)                                                \n",
      "                                                                 \n",
      " dropout_7 (Dropout)         (None, 28, 64)            0         \n",
      "                                                                 \n",
      " flatten_2 (Flatten)         (None, 1792)              0         \n",
      "                                                                 \n",
      " dense_4 (Dense)             (None, 64)                114752    \n",
      "                                                                 \n",
      " dropout_8 (Dropout)         (None, 64)                0         \n",
      "                                                                 \n",
      " dense_5 (Dense)             (None, 1)                 65        \n",
      "                                                                 \n",
      "=================================================================\n",
      "Total params: 119457 (466.63 KB)\n",
      "Trainable params: 119265 (465.88 KB)\n",
      "Non-trainable params: 192 (768.00 Byte)\n",
      "_________________________________________________________________\n"
     ]
    }
   ],
   "source": [
    "model.summary()"
   ]
  },
  {
   "cell_type": "code",
   "execution_count": 30,
   "id": "33a5b411",
   "metadata": {},
   "outputs": [],
   "source": [
    "model.compile(optimizer=Adam(learning_rate=0.0001), loss = 'binary_crossentropy', metrics=['accuracy'])"
   ]
  },
  {
   "cell_type": "code",
   "execution_count": 31,
   "id": "fe9e889b",
   "metadata": {},
   "outputs": [
    {
     "name": "stdout",
     "output_type": "stream",
     "text": [
      "Epoch 1/30\n",
      "25/25 [==============================] - 4s 30ms/step - loss: 0.6805 - accuracy: 0.6836 - val_loss: 0.5865 - val_accuracy: 0.9036\n",
      "Epoch 2/30\n",
      "25/25 [==============================] - 0s 15ms/step - loss: 0.3316 - accuracy: 0.8666 - val_loss: 0.5460 - val_accuracy: 0.9036\n",
      "Epoch 3/30\n",
      "25/25 [==============================] - 0s 16ms/step - loss: 0.3036 - accuracy: 0.8806 - val_loss: 0.5078 - val_accuracy: 0.9239\n",
      "Epoch 4/30\n",
      "25/25 [==============================] - 0s 15ms/step - loss: 0.2734 - accuracy: 0.8971 - val_loss: 0.4710 - val_accuracy: 0.9340\n",
      "Epoch 5/30\n",
      "25/25 [==============================] - 0s 16ms/step - loss: 0.2185 - accuracy: 0.9250 - val_loss: 0.4268 - val_accuracy: 0.9289\n",
      "Epoch 6/30\n",
      "25/25 [==============================] - 0s 16ms/step - loss: 0.2116 - accuracy: 0.9288 - val_loss: 0.3827 - val_accuracy: 0.9340\n",
      "Epoch 7/30\n",
      "25/25 [==============================] - 0s 16ms/step - loss: 0.2174 - accuracy: 0.9199 - val_loss: 0.3450 - val_accuracy: 0.9289\n",
      "Epoch 8/30\n",
      "25/25 [==============================] - 0s 16ms/step - loss: 0.1627 - accuracy: 0.9352 - val_loss: 0.3112 - val_accuracy: 0.9289\n",
      "Epoch 9/30\n",
      "25/25 [==============================] - 0s 16ms/step - loss: 0.1743 - accuracy: 0.9416 - val_loss: 0.2823 - val_accuracy: 0.9340\n",
      "Epoch 10/30\n",
      "25/25 [==============================] - 0s 16ms/step - loss: 0.1599 - accuracy: 0.9479 - val_loss: 0.2441 - val_accuracy: 0.9340\n",
      "Epoch 11/30\n",
      "25/25 [==============================] - 0s 16ms/step - loss: 0.1252 - accuracy: 0.9619 - val_loss: 0.2123 - val_accuracy: 0.9391\n",
      "Epoch 12/30\n",
      "25/25 [==============================] - 0s 16ms/step - loss: 0.1412 - accuracy: 0.9466 - val_loss: 0.1856 - val_accuracy: 0.9391\n",
      "Epoch 13/30\n",
      "25/25 [==============================] - 0s 16ms/step - loss: 0.1480 - accuracy: 0.9530 - val_loss: 0.1686 - val_accuracy: 0.9391\n",
      "Epoch 14/30\n",
      "25/25 [==============================] - 0s 16ms/step - loss: 0.1472 - accuracy: 0.9492 - val_loss: 0.1542 - val_accuracy: 0.9340\n",
      "Epoch 15/30\n",
      "25/25 [==============================] - 0s 16ms/step - loss: 0.1417 - accuracy: 0.9479 - val_loss: 0.1364 - val_accuracy: 0.9391\n",
      "Epoch 16/30\n",
      "25/25 [==============================] - 0s 17ms/step - loss: 0.1174 - accuracy: 0.9543 - val_loss: 0.1211 - val_accuracy: 0.9391\n",
      "Epoch 17/30\n",
      "25/25 [==============================] - 0s 17ms/step - loss: 0.1102 - accuracy: 0.9606 - val_loss: 0.1099 - val_accuracy: 0.9492\n",
      "Epoch 18/30\n",
      "25/25 [==============================] - 0s 17ms/step - loss: 0.1181 - accuracy: 0.9530 - val_loss: 0.1002 - val_accuracy: 0.9492\n",
      "Epoch 19/30\n",
      "25/25 [==============================] - 0s 17ms/step - loss: 0.1024 - accuracy: 0.9644 - val_loss: 0.0902 - val_accuracy: 0.9543\n",
      "Epoch 20/30\n",
      "25/25 [==============================] - 0s 16ms/step - loss: 0.1075 - accuracy: 0.9632 - val_loss: 0.0830 - val_accuracy: 0.9645\n",
      "Epoch 21/30\n",
      "25/25 [==============================] - 0s 16ms/step - loss: 0.0912 - accuracy: 0.9657 - val_loss: 0.0771 - val_accuracy: 0.9645\n",
      "Epoch 22/30\n",
      "25/25 [==============================] - 0s 16ms/step - loss: 0.0975 - accuracy: 0.9619 - val_loss: 0.0704 - val_accuracy: 0.9695\n",
      "Epoch 23/30\n",
      "25/25 [==============================] - 0s 16ms/step - loss: 0.0758 - accuracy: 0.9733 - val_loss: 0.0678 - val_accuracy: 0.9695\n",
      "Epoch 24/30\n",
      "25/25 [==============================] - 0s 16ms/step - loss: 0.0902 - accuracy: 0.9733 - val_loss: 0.0628 - val_accuracy: 0.9695\n",
      "Epoch 25/30\n",
      "25/25 [==============================] - 0s 17ms/step - loss: 0.0868 - accuracy: 0.9733 - val_loss: 0.0571 - val_accuracy: 0.9797\n",
      "Epoch 26/30\n",
      "25/25 [==============================] - 0s 16ms/step - loss: 0.0830 - accuracy: 0.9695 - val_loss: 0.0582 - val_accuracy: 0.9797\n",
      "Epoch 27/30\n",
      "25/25 [==============================] - 0s 16ms/step - loss: 0.0757 - accuracy: 0.9759 - val_loss: 0.0550 - val_accuracy: 0.9797\n",
      "Epoch 28/30\n",
      "25/25 [==============================] - 0s 16ms/step - loss: 0.0961 - accuracy: 0.9657 - val_loss: 0.0518 - val_accuracy: 0.9848\n",
      "Epoch 29/30\n",
      "25/25 [==============================] - 0s 17ms/step - loss: 0.0976 - accuracy: 0.9632 - val_loss: 0.0451 - val_accuracy: 0.9848\n",
      "Epoch 30/30\n",
      "25/25 [==============================] - 0s 16ms/step - loss: 0.0668 - accuracy: 0.9759 - val_loss: 0.0442 - val_accuracy: 0.9848\n"
     ]
    }
   ],
   "source": [
    "history = model.fit(X_train, y_train, epochs=epochs, validation_data=(X_test, y_test), verbose=1)"
   ]
  },
  {
   "cell_type": "code",
   "execution_count": 32,
   "id": "0ebc2a2c",
   "metadata": {},
   "outputs": [],
   "source": [
    "def plot_learningCurve(history, epoch):\n",
    "  # Plot training & validation accuracy values\n",
    "  epoch_range = range(1, epoch+1)\n",
    "  plt.plot(epoch_range, history.history['accuracy'])\n",
    "  plt.plot(epoch_range, history.history['val_accuracy'])\n",
    "  plt.title('Model accuracy')\n",
    "  plt.ylabel('Accuracy')\n",
    "  plt.xlabel('Epoch')\n",
    "  plt.legend(['Train', 'Val'], loc='upper left')\n",
    "  plt.show()\n",
    "\n",
    "  # Plot training & validation loss values\n",
    "  plt.plot(epoch_range, history.history['loss'])\n",
    "  plt.plot(epoch_range, history.history['val_loss'])\n",
    "  plt.title('Model loss')\n",
    "  plt.ylabel('Loss')\n",
    "  plt.xlabel('Epoch')\n",
    "  plt.legend(['Train', 'Val'], loc='upper left')\n",
    "  plt.show()"
   ]
  },
  {
   "cell_type": "code",
   "execution_count": 33,
   "id": "c8ef0a68",
   "metadata": {},
   "outputs": [
    {
     "data": {
      "image/png": "[encoded data removed]",
      "text/plain": [
       "<Figure size 432x288 with 1 Axes>"
      ]
     },
     "metadata": {
      "needs_background": "light"
     },
     "output_type": "display_data"
    },
    {
     "data": {
      "image/png": "[encoded data removed]",
      "text/plain": [
       "<Figure size 432x288 with 1 Axes>"
      ]
     },
     "metadata": {
      "needs_background": "light"
     },
     "output_type": "display_data"
    }
   ],
   "source": [
    "plot_learningCurve(history, epochs)"
   ]
  },
  {
   "cell_type": "markdown",
   "id": "3f9d55db",
   "metadata": {},
   "source": [
    "### Adding MaxPool (for experiment)"
   ]
  },
  {
   "cell_type": "code",
   "execution_count": 34,
   "id": "e01766fc",
   "metadata": {},
   "outputs": [
    {
     "name": "stdout",
     "output_type": "stream",
     "text": [
      "Epoch 1/50\n",
      "25/25 [==============================] - 4s 32ms/step - loss: 1.1557 - accuracy: 0.5578 - val_loss: 0.6542 - val_accuracy: 0.6497\n",
      "Epoch 2/50\n",
      "25/25 [==============================] - 0s 15ms/step - loss: 0.8353 - accuracy: 0.6455 - val_loss: 0.6195 - val_accuracy: 0.7817\n",
      "Epoch 3/50\n",
      "25/25 [==============================] - 0s 16ms/step - loss: 0.7286 - accuracy: 0.7192 - val_loss: 0.5908 - val_accuracy: 0.7766\n",
      "Epoch 4/50\n",
      "25/25 [==============================] - 0s 16ms/step - loss: 0.5992 - accuracy: 0.7484 - val_loss: 0.5607 - val_accuracy: 0.7614\n",
      "Epoch 5/50\n",
      "25/25 [==============================] - 0s 15ms/step - loss: 0.5442 - accuracy: 0.7764 - val_loss: 0.5290 - val_accuracy: 0.7513\n",
      "Epoch 6/50\n",
      "25/25 [==============================] - 0s 17ms/step - loss: 0.4966 - accuracy: 0.7929 - val_loss: 0.4951 - val_accuracy: 0.7766\n",
      "Epoch 7/50\n",
      "25/25 [==============================] - 0s 15ms/step - loss: 0.4313 - accuracy: 0.8183 - val_loss: 0.4596 - val_accuracy: 0.8020\n",
      "Epoch 8/50\n",
      "25/25 [==============================] - 0s 16ms/step - loss: 0.4008 - accuracy: 0.8285 - val_loss: 0.4262 - val_accuracy: 0.8173\n",
      "Epoch 9/50\n",
      "25/25 [==============================] - 0s 17ms/step - loss: 0.3975 - accuracy: 0.8513 - val_loss: 0.3923 - val_accuracy: 0.8376\n",
      "Epoch 10/50\n",
      "25/25 [==============================] - 0s 17ms/step - loss: 0.3566 - accuracy: 0.8577 - val_loss: 0.3595 - val_accuracy: 0.8528\n",
      "Epoch 11/50\n",
      "25/25 [==============================] - 0s 16ms/step - loss: 0.3866 - accuracy: 0.8463 - val_loss: 0.3300 - val_accuracy: 0.8782\n",
      "Epoch 12/50\n",
      "25/25 [==============================] - 0s 17ms/step - loss: 0.3404 - accuracy: 0.8691 - val_loss: 0.3038 - val_accuracy: 0.8883\n",
      "Epoch 13/50\n",
      "25/25 [==============================] - 0s 16ms/step - loss: 0.3772 - accuracy: 0.8666 - val_loss: 0.2834 - val_accuracy: 0.8883\n",
      "Epoch 14/50\n",
      "25/25 [==============================] - 0s 16ms/step - loss: 0.3084 - accuracy: 0.8844 - val_loss: 0.2657 - val_accuracy: 0.8985\n",
      "Epoch 15/50\n",
      "25/25 [==============================] - 0s 17ms/step - loss: 0.3040 - accuracy: 0.8767 - val_loss: 0.2505 - val_accuracy: 0.8985\n",
      "Epoch 16/50\n",
      "25/25 [==============================] - 0s 17ms/step - loss: 0.2878 - accuracy: 0.8907 - val_loss: 0.2395 - val_accuracy: 0.9036\n",
      "Epoch 17/50\n",
      "25/25 [==============================] - 0s 17ms/step - loss: 0.3275 - accuracy: 0.8933 - val_loss: 0.2305 - val_accuracy: 0.9036\n",
      "Epoch 18/50\n",
      "25/25 [==============================] - 0s 14ms/step - loss: 0.3053 - accuracy: 0.8920 - val_loss: 0.2239 - val_accuracy: 0.9036\n",
      "Epoch 19/50\n",
      "25/25 [==============================] - 0s 14ms/step - loss: 0.2779 - accuracy: 0.9060 - val_loss: 0.2190 - val_accuracy: 0.9086\n",
      "Epoch 20/50\n",
      "25/25 [==============================] - 0s 13ms/step - loss: 0.2489 - accuracy: 0.9034 - val_loss: 0.2146 - val_accuracy: 0.9086\n",
      "Epoch 21/50\n",
      "25/25 [==============================] - 0s 15ms/step - loss: 0.2748 - accuracy: 0.9022 - val_loss: 0.2110 - val_accuracy: 0.9086\n",
      "Epoch 22/50\n",
      "25/25 [==============================] - 0s 15ms/step - loss: 0.2902 - accuracy: 0.9072 - val_loss: 0.2076 - val_accuracy: 0.9086\n",
      "Epoch 23/50\n",
      "25/25 [==============================] - 0s 16ms/step - loss: 0.2377 - accuracy: 0.9212 - val_loss: 0.2013 - val_accuracy: 0.9137\n",
      "Epoch 24/50\n",
      "25/25 [==============================] - 0s 18ms/step - loss: 0.2362 - accuracy: 0.9187 - val_loss: 0.1971 - val_accuracy: 0.9137\n",
      "Epoch 25/50\n",
      "25/25 [==============================] - 0s 15ms/step - loss: 0.1968 - accuracy: 0.9250 - val_loss: 0.1925 - val_accuracy: 0.9188\n",
      "Epoch 26/50\n",
      "25/25 [==============================] - 0s 17ms/step - loss: 0.2353 - accuracy: 0.9098 - val_loss: 0.1901 - val_accuracy: 0.9188\n",
      "Epoch 27/50\n",
      "25/25 [==============================] - 0s 17ms/step - loss: 0.2154 - accuracy: 0.9174 - val_loss: 0.1914 - val_accuracy: 0.9188\n",
      "Epoch 28/50\n",
      "25/25 [==============================] - 0s 16ms/step - loss: 0.2076 - accuracy: 0.9238 - val_loss: 0.1886 - val_accuracy: 0.9188\n",
      "Epoch 29/50\n",
      "25/25 [==============================] - 0s 15ms/step - loss: 0.2395 - accuracy: 0.9212 - val_loss: 0.1854 - val_accuracy: 0.9239\n",
      "Epoch 30/50\n",
      "25/25 [==============================] - 0s 16ms/step - loss: 0.2225 - accuracy: 0.9238 - val_loss: 0.1849 - val_accuracy: 0.9239\n",
      "Epoch 31/50\n",
      "25/25 [==============================] - 0s 17ms/step - loss: 0.2054 - accuracy: 0.9352 - val_loss: 0.1856 - val_accuracy: 0.9188\n",
      "Epoch 32/50\n",
      "25/25 [==============================] - 0s 17ms/step - loss: 0.2201 - accuracy: 0.9288 - val_loss: 0.1852 - val_accuracy: 0.9239\n",
      "Epoch 33/50\n",
      "25/25 [==============================] - 0s 16ms/step - loss: 0.2228 - accuracy: 0.9288 - val_loss: 0.1824 - val_accuracy: 0.9239\n",
      "Epoch 34/50\n",
      "25/25 [==============================] - 0s 15ms/step - loss: 0.2169 - accuracy: 0.9314 - val_loss: 0.1776 - val_accuracy: 0.9239\n",
      "Epoch 35/50\n",
      "25/25 [==============================] - 0s 17ms/step - loss: 0.2394 - accuracy: 0.9187 - val_loss: 0.1742 - val_accuracy: 0.9239\n",
      "Epoch 36/50\n",
      "25/25 [==============================] - 0s 17ms/step - loss: 0.2135 - accuracy: 0.9276 - val_loss: 0.1701 - val_accuracy: 0.9289\n",
      "Epoch 37/50\n",
      "25/25 [==============================] - 0s 17ms/step - loss: 0.2005 - accuracy: 0.9301 - val_loss: 0.1671 - val_accuracy: 0.9289\n",
      "Epoch 38/50\n",
      "25/25 [==============================] - 0s 15ms/step - loss: 0.2175 - accuracy: 0.9276 - val_loss: 0.1659 - val_accuracy: 0.9289\n",
      "Epoch 39/50\n",
      "25/25 [==============================] - 0s 17ms/step - loss: 0.1779 - accuracy: 0.9352 - val_loss: 0.1637 - val_accuracy: 0.9289\n",
      "Epoch 40/50\n",
      "25/25 [==============================] - 0s 15ms/step - loss: 0.1682 - accuracy: 0.9416 - val_loss: 0.1614 - val_accuracy: 0.9289\n",
      "Epoch 41/50\n",
      "25/25 [==============================] - 0s 16ms/step - loss: 0.1782 - accuracy: 0.9339 - val_loss: 0.1609 - val_accuracy: 0.9340\n",
      "Epoch 42/50\n",
      "25/25 [==============================] - 0s 18ms/step - loss: 0.1707 - accuracy: 0.9416 - val_loss: 0.1606 - val_accuracy: 0.9340\n",
      "Epoch 43/50\n",
      "25/25 [==============================] - 0s 16ms/step - loss: 0.1999 - accuracy: 0.9390 - val_loss: 0.1616 - val_accuracy: 0.9340\n",
      "Epoch 44/50\n",
      "25/25 [==============================] - 0s 17ms/step - loss: 0.1919 - accuracy: 0.9327 - val_loss: 0.1567 - val_accuracy: 0.9340\n",
      "Epoch 45/50\n",
      "25/25 [==============================] - 0s 16ms/step - loss: 0.1566 - accuracy: 0.9454 - val_loss: 0.1543 - val_accuracy: 0.9340\n",
      "Epoch 46/50\n",
      "25/25 [==============================] - 0s 16ms/step - loss: 0.1936 - accuracy: 0.9377 - val_loss: 0.1512 - val_accuracy: 0.9340\n",
      "Epoch 47/50\n",
      "25/25 [==============================] - 0s 14ms/step - loss: 0.1513 - accuracy: 0.9543 - val_loss: 0.1495 - val_accuracy: 0.9340\n",
      "Epoch 48/50\n",
      "25/25 [==============================] - 0s 18ms/step - loss: 0.2247 - accuracy: 0.9339 - val_loss: 0.1473 - val_accuracy: 0.9340\n",
      "Epoch 49/50\n",
      "25/25 [==============================] - 0s 15ms/step - loss: 0.2035 - accuracy: 0.9403 - val_loss: 0.1457 - val_accuracy: 0.9340\n",
      "Epoch 50/50\n",
      "25/25 [==============================] - 0s 17ms/step - loss: 0.1423 - accuracy: 0.9530 - val_loss: 0.1437 - val_accuracy: 0.9340\n"
     ]
    }
   ],
   "source": [
    "epochs = 50\n",
    "model = Sequential()\n",
    "model.add(Conv1D(32, 2, activation='relu', input_shape = X_train[0].shape))\n",
    "model.add(BatchNormalization())\n",
    "model.add(MaxPool1D(2))\n",
    "model.add(Dropout(0.2))\n",
    "\n",
    "model.add(Conv1D(64, 2, activation='relu'))\n",
    "model.add(BatchNormalization())\n",
    "model.add(MaxPool1D(2))\n",
    "model.add(Dropout(0.5))\n",
    "\n",
    "model.add(Flatten())\n",
    "model.add(Dense(64, activation='relu'))\n",
    "model.add(Dropout(0.5))\n",
    "\n",
    "model.add(Dense(1, activation='sigmoid'))\n",
    "\n",
    "model.compile(optimizer=Adam(learning_rate=0.0001), loss = 'binary_crossentropy', metrics=['accuracy'])\n",
    "history = model.fit(X_train, y_train, epochs=epochs, validation_data=(X_test, y_test), verbose=1)"
   ]
  },
  {
   "cell_type": "code",
   "execution_count": 35,
   "id": "01242db7",
   "metadata": {},
   "outputs": [
    {
     "data": {
      "image/png": "[encoded data removed]",
      "text/plain": [
       "<Figure size 432x288 with 1 Axes>"
      ]
     },
     "metadata": {
      "needs_background": "light"
     },
     "output_type": "display_data"
    },
    {
     "data": {
      "image/png": "[encoded data removed]",
      "text/plain": [
       "<Figure size 432x288 with 1 Axes>"
      ]
     },
     "metadata": {
      "needs_background": "light"
     },
     "output_type": "display_data"
    }
   ],
   "source": [
    "plot_learningCurve(history, epochs)"
   ]
  }
 ],
 "metadata": {
  "kernelspec": {
   "display_name": "Python 3 (ipykernel)",
   "language": "python",
   "name": "python3"
  },
  "language_info": {
   "codemirror_mode": {
    "name": "ipython",
    "version": 3
   },
   "file_extension": ".py",
   "mimetype": "text/x-python",
   "name": "python",
   "nbconvert_exporter": "python",
   "pygments_lexer": "ipython3",
   "version": "3.9.12"
  }
 },
 "nbformat": 4,
 "nbformat_minor": 5
}
